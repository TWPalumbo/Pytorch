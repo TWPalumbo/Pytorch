{
 "cells": [
  {
   "cell_type": "markdown",
   "metadata": {},
   "source": [
    "# Developing an AI application\n",
    "\n",
    "Going forward, AI algorithms will be incorporated into more and more everyday applications. For example, you might want to include an image classifier in a smart phone app. To do this, you'd use a deep learning model trained on hundreds of thousands of images as part of the overall application architecture. A large part of software development in the future will be using these types of models as common parts of applications. \n",
    "\n",
    "In this project, you'll train an image classifier to recognize different species of flowers. You can imagine using something like this in a phone app that tells you the name of the flower your camera is looking at. In practice you'd train this classifier, then export it for use in your application. We'll be using [this dataset](http://www.robots.ox.ac.uk/~vgg/data/flowers/102/index.html) of 102 flower categories, you can see a few examples below. \n",
    "\n",
    "<img src='assets/Flowers.png' width=500px>\n",
    "\n",
    "The project is broken down into multiple steps:\n",
    "\n",
    "* Load and preprocess the image dataset\n",
    "* Train the image classifier on your dataset\n",
    "* Use the trained classifier to predict image content\n",
    "\n",
    "We'll lead you through each part which you'll implement in Python.\n",
    "\n",
    "When you've completed this project, you'll have an application that can be trained on any set of labeled images. Here your network will be learning about flowers and end up as a command line application. But, what you do with your new skills depends on your imagination and effort in building a dataset. For example, imagine an app where you take a picture of a car, it tells you what the make and model is, then looks up information about it. Go build your own dataset and make something new.\n",
    "\n",
    "First up is importing the packages you'll need. It's good practice to keep all the imports at the beginning of your code. As you work through this notebook and find you need to import a package, make sure to add the import up here."
   ]
  },
  {
   "cell_type": "code",
   "execution_count": 2,
   "metadata": {},
   "outputs": [],
   "source": [
    "%matplotlib inline\n",
    "from PIL import Image\n",
    "import matplotlib.pyplot as plt\n",
    "import numpy as np\n",
    "import torch\n",
    "import torch.nn as nn\n",
    "import torch.nn.functional as F\n",
    "import torch.optim as optim\n",
    "from torchvision import transforms, datasets, models\n",
    "import torchvision.models as models\n",
    "import json\n",
    "from matplotlib.ticker import FormatStrFormatter\n",
    "\n",
    "torch.cuda.empty_cache()"
   ]
  },
  {
   "cell_type": "markdown",
   "metadata": {},
   "source": [
    "## Load the data\n",
    "\n",
    "Here you'll use `torchvision` to load the data ([documentation](http://pytorch.org/docs/0.3.0/torchvision/index.html)). You can [download the data here](https://s3.amazonaws.com/content.udacity-data.com/courses/nd188/flower_data.zip). The dataset is split into two parts, training and validation. For the training, you'll want to apply transformations such as random scaling, cropping, and flipping. This will help the network generalize leading to better performance. If you use a pre-trained network, you'll also need to make sure the input data is resized to 224x224 pixels as required by the networks.\n",
    "\n",
    "The validation set is used to measure the model's performance on data it hasn't seen yet. For this you don't want any scaling or rotation transformations, but you'll need to resize then crop the images to the appropriate size.\n",
    "\n",
    "The pre-trained networks available from `torchvision` were trained on the ImageNet dataset where each color channel was normalized separately. For both sets you'll need to normalize the means and standard deviations of the images to what the network expects. For the means, it's `[0.485, 0.456, 0.406]` and for the standard deviations `[0.229, 0.224, 0.225]`, calculated from the ImageNet images.  These values will shift each color channel to be centered at 0 and range from -1 to 1."
   ]
  },
  {
   "cell_type": "code",
   "execution_count": 10,
   "metadata": {},
   "outputs": [],
   "source": [
    "data_dir = '/home/tim/Programming_Files/PyTorch/Final_Project/pytorch_challenge-master/flower_data'\n",
    "train_dir = data_dir + '/train'\n",
    "valid_dir = data_dir + '/valid'\n",
    "test_dir = data_dir + '/test'"
   ]
  },
  {
   "cell_type": "code",
   "execution_count": 11,
   "metadata": {},
   "outputs": [],
   "source": [
    "# TODO: Define your transforms for the training and validation sets\n",
    "train_transforms = transforms.Compose([transforms.RandomRotation(30),\n",
    "                                       transforms.RandomResizedCrop(224), \n",
    "                                       transforms.RandomHorizontalFlip(),\n",
    "                                       transforms.ToTensor(),\n",
    "                                       transforms.Normalize([0.485, 0.456, 0.406],\n",
    "                                                            [0.229, 0.224, 0.225])])\n",
    "\n",
    "valid_transforms = transforms.Compose([transforms.Resize(256),\n",
    "                                       transforms.CenterCrop(224), \n",
    "                                       transforms.ToTensor(),\n",
    "                                       transforms.Normalize([0.485, 0.456, 0.406],\n",
    "                                                            [0.229, 0.224, 0.225])])\n",
    "\n",
    "test_transforms = transforms.Compose([transforms.Resize(256),\n",
    "                                      transforms.CenterCrop(224),\n",
    "                                      transforms.ToTensor(),\n",
    "                                      transforms.Normalize([0.485, 0.456, 0.406], \n",
    "                                                           [0.229, 0.224, 0.225])])\n",
    "\n",
    "# TODO: Load the datasets with ImageFolder\n",
    "train_data = datasets.ImageFolder(train_dir, transform =train_transforms)\n",
    "validation_data = datasets.ImageFolder(valid_dir, transform =valid_transforms)\n",
    "test_data = datasets.ImageFolder(test_dir , transform = test_transforms)\n",
    "\n",
    "# TODO: Using the image datasets and the trainforms, define the dataloaders\n",
    "trainloader = torch.utils.data.DataLoader(train_data, batch_size=8, shuffle=True)\n",
    "vloader = torch.utils.data.DataLoader(validation_data, batch_size =8,shuffle = True)\n",
    "testloader = torch.utils.data.DataLoader(test_data, batch_size = 8, shuffle = True)   "
   ]
  },
  {
   "cell_type": "markdown",
   "metadata": {},
   "source": [
    "### Label mapping\n",
    "\n",
    "You'll also need to load in a mapping from category label to category name. You can find this in the file `cat_to_name.json`. It's a JSON object which you can read in with the [`json` module](https://docs.python.org/2/library/json.html). This will give you a dictionary mapping the integer encoded categories to the actual names of the flowers."
   ]
  },
  {
   "cell_type": "code",
   "execution_count": 12,
   "metadata": {},
   "outputs": [],
   "source": [
    "import json\n",
    "\n",
    "with open('cat_to_name.json', 'r') as f:\n",
    "    cat_to_name = json.load(f)"
   ]
  },
  {
   "cell_type": "markdown",
   "metadata": {},
   "source": [
    "# Building and training the classifier\n",
    "\n",
    "Now that the data is ready, it's time to build and train the classifier. As usual, you should use one of the pretrained models from `torchvision.models` to get the image features. Build and train a new feed-forward classifier using those features.\n",
    "\n",
    "We're going to leave this part up to you. If you want to talk through it with someone, chat with your fellow students! You can also ask questions on the forums or join the instructors in office hours.\n",
    "\n",
    "Refer to [the rubric](https://review.udacity.com/#!/rubrics/1663/view) for guidance on successfully completing this section. Things you'll need to do:\n",
    "\n",
    "* Load a [pre-trained network](http://pytorch.org/docs/master/torchvision/models.html) (If you need a starting point, the VGG networks work great and are straightforward to use)\n",
    "* Define a new, untrained feed-forward network as a classifier, using ReLU activations and dropout\n",
    "* Train the classifier layers using backpropagation using the pre-trained network to get the features\n",
    "* Track the loss and accuracy on the validation set to determine the best hyperparameters\n",
    "\n",
    "We've left a cell open for you below, but use as many as you need. Our advice is to break the problem up into smaller parts you can run separately. Check that each part is doing what you expect, then move on to the next. You'll likely find that as you work through each part, you'll need to go back and modify your previous code. This is totally normal!\n",
    "\n",
    "When training make sure you're updating only the weights of the feed-forward network. You should be able to get the validation accuracy above 70% if you build everything right. Make sure to try different hyperparameters (learning rate, units in the classifier, epochs, etc) to find the best model. Save those hyperparameters to use as default values in the next part of the project."
   ]
  },
  {
   "cell_type": "code",
   "execution_count": 5,
   "metadata": {},
   "outputs": [],
   "source": [
    "arch_in = {'densenet121': 1024}"
   ]
  },
  {
   "cell_type": "code",
   "execution_count": 6,
   "metadata": {},
   "outputs": [
    {
     "name": "stderr",
     "output_type": "stream",
     "text": [
      "/home/tim/miniconda3/lib/python3.6/site-packages/torchvision/models/densenet.py:212: UserWarning: nn.init.kaiming_normal is now deprecated in favor of nn.init.kaiming_normal_.\n",
      "  nn.init.kaiming_normal(m.weight.data)\n"
     ]
    }
   ],
   "source": [
    "def nn_setup(arch):\n",
    "    \n",
    "    if arch == 'densenet121':\n",
    "        model = models.densenet121(pretrained=True)\n",
    "    \n",
    "    else:\n",
    "        print(\"Architecture is missing\".format(arch))\n",
    "        \n",
    "    \n",
    "    for param in model.parameters():\n",
    "        param.requires_grad = False\n",
    "        \n",
    "        from collections import OrderedDict\n",
    "        classifier = nn.Sequential(OrderedDict([('fc1', nn.Linear(arch_in[arch], 512)),\n",
    "                                                ('relu', nn.ReLU()),\n",
    "                                                ('dropout', nn.Dropout(p=0.3)),\n",
    "                                                ('fc2', nn.Linear(512, 102)),\n",
    "                                                ('out', nn.LogSoftmax(dim=1)),\n",
    "                                               ]))\n",
    "        model.classifier = classifier\n",
    "        criterion = nn.NLLLoss()\n",
    "        optimizer = optim.Adam(model.classifier.parameters(), lr=0.001)\n",
    "        model.cuda()\n",
    "        \n",
    "        return model, optimizer, criterion\n",
    "\n",
    "model, optimizer, criterion = nn_setup('densenet121')"
   ]
  },
  {
   "cell_type": "code",
   "execution_count": 7,
   "metadata": {},
   "outputs": [
    {
     "name": "stdout",
     "output_type": "stream",
     "text": [
      "Epoch: 1/12...  Training Loss: 4.4724 Validation Loss: 0.0437 Accuracy: 0.0983\n",
      "Epoch: 1/12...  Training Loss: 3.6336 Validation Loss: 0.0141 Accuracy: 0.3204\n",
      "Epoch: 1/12...  Training Loss: 2.3972 Validation Loss: 0.0170 Accuracy: 0.6214\n",
      "Epoch: 1/12...  Training Loss: 1.7188 Validation Loss: 0.0090 Accuracy: 0.6553\n",
      "Epoch: 2/12...  Training Loss: 1.1214 Validation Loss: 0.0050 Accuracy: 0.7415\n",
      "Epoch: 2/12...  Training Loss: 1.1312 Validation Loss: 0.0029 Accuracy: 0.7706\n",
      "Epoch: 2/12...  Training Loss: 0.9773 Validation Loss: 0.0121 Accuracy: 0.7876\n",
      "Epoch: 2/12...  Training Loss: 0.9301 Validation Loss: 0.0061 Accuracy: 0.8252\n",
      "Epoch: 3/12...  Training Loss: 0.6600 Validation Loss: 0.0064 Accuracy: 0.8289\n",
      "Epoch: 3/12...  Training Loss: 0.7794 Validation Loss: 0.0180 Accuracy: 0.8325\n",
      "Epoch: 3/12...  Training Loss: 0.7412 Validation Loss: 0.0002 Accuracy: 0.8374\n",
      "Epoch: 3/12...  Training Loss: 0.6468 Validation Loss: 0.0108 Accuracy: 0.8447\n",
      "Epoch: 4/12...  Training Loss: 0.4450 Validation Loss: 0.0044 Accuracy: 0.8471\n",
      "Epoch: 4/12...  Training Loss: 0.6102 Validation Loss: 0.0004 Accuracy: 0.8677\n",
      "Epoch: 4/12...  Training Loss: 0.6037 Validation Loss: 0.0004 Accuracy: 0.8677\n",
      "Epoch: 4/12...  Training Loss: 0.6121 Validation Loss: 0.0016 Accuracy: 0.8823\n",
      "Epoch: 5/12...  Training Loss: 0.3532 Validation Loss: 0.0036 Accuracy: 0.8847\n",
      "Epoch: 5/12...  Training Loss: 0.5504 Validation Loss: 0.0003 Accuracy: 0.8835\n",
      "Epoch: 5/12...  Training Loss: 0.5079 Validation Loss: 0.0014 Accuracy: 0.8847\n",
      "Epoch: 5/12...  Training Loss: 0.5699 Validation Loss: 0.0004 Accuracy: 0.8968\n",
      "Epoch: 6/12...  Training Loss: 0.2573 Validation Loss: 0.0041 Accuracy: 0.9114\n",
      "Epoch: 6/12...  Training Loss: 0.5139 Validation Loss: 0.0060 Accuracy: 0.8896\n",
      "Epoch: 6/12...  Training Loss: 0.4667 Validation Loss: 0.0037 Accuracy: 0.8993\n",
      "Epoch: 6/12...  Training Loss: 0.5246 Validation Loss: 0.0016 Accuracy: 0.8968\n",
      "Epoch: 7/12...  Training Loss: 0.1882 Validation Loss: 0.0253 Accuracy: 0.8981\n",
      "Epoch: 7/12...  Training Loss: 0.4741 Validation Loss: 0.0145 Accuracy: 0.8896\n",
      "Epoch: 7/12...  Training Loss: 0.5080 Validation Loss: 0.0000 Accuracy: 0.9041\n",
      "Epoch: 7/12...  Training Loss: 0.4841 Validation Loss: 0.0150 Accuracy: 0.9041\n",
      "Epoch: 8/12...  Training Loss: 0.1469 Validation Loss: 0.0046 Accuracy: 0.9150\n",
      "Epoch: 8/12...  Training Loss: 0.4163 Validation Loss: 0.0182 Accuracy: 0.8968\n",
      "Epoch: 8/12...  Training Loss: 0.4788 Validation Loss: 0.0001 Accuracy: 0.8847\n",
      "Epoch: 8/12...  Training Loss: 0.3731 Validation Loss: 0.0000 Accuracy: 0.9223\n",
      "Epoch: 9/12...  Training Loss: 0.0841 Validation Loss: 0.0087 Accuracy: 0.9066\n",
      "Epoch: 9/12...  Training Loss: 0.4034 Validation Loss: 0.0008 Accuracy: 0.8847\n",
      "Epoch: 9/12...  Training Loss: 0.4466 Validation Loss: 0.0000 Accuracy: 0.9090\n",
      "Epoch: 9/12...  Training Loss: 0.4576 Validation Loss: 0.0001 Accuracy: 0.9090\n",
      "Epoch: 10/12...  Training Loss: 0.0599 Validation Loss: 0.0001 Accuracy: 0.9029\n",
      "Epoch: 10/12...  Training Loss: 0.3996 Validation Loss: 0.0005 Accuracy: 0.9138\n",
      "Epoch: 10/12...  Training Loss: 0.3801 Validation Loss: 0.0119 Accuracy: 0.9175\n",
      "Epoch: 10/12...  Training Loss: 0.3789 Validation Loss: 0.0010 Accuracy: 0.9029\n",
      "Epoch: 11/12...  Training Loss: 0.0100 Validation Loss: 0.0003 Accuracy: 0.9223\n",
      "Epoch: 11/12...  Training Loss: 0.3929 Validation Loss: 0.0000 Accuracy: 0.9114\n",
      "Epoch: 11/12...  Training Loss: 0.4018 Validation Loss: 0.0005 Accuracy: 0.8993\n",
      "Epoch: 11/12...  Training Loss: 0.4095 Validation Loss: 0.0001 Accuracy: 0.9223\n",
      "Epoch: 11/12...  Training Loss: 0.4084 Validation Loss: 0.0000 Accuracy: 0.9114\n",
      "Epoch: 12/12...  Training Loss: 0.3749 Validation Loss: 0.0003 Accuracy: 0.9211\n",
      "Epoch: 12/12...  Training Loss: 0.4191 Validation Loss: 0.0000 Accuracy: 0.9138\n",
      "Epoch: 12/12...  Training Loss: 0.4153 Validation Loss: 0.0000 Accuracy: 0.9041\n",
      "Epoch: 12/12...  Training Loss: 0.3605 Validation Loss: 0.0000 Accuracy: 0.9163\n"
     ]
    }
   ],
   "source": [
    "epochs = 12\n",
    "print_every = 200\n",
    "steps = 0\n",
    "loss_show=[]\n",
    "\n",
    "model.to('cuda')\n",
    "\n",
    "for e in range(epochs):\n",
    "    running_loss = 0\n",
    "    for ii, (inputs, labels) in enumerate(trainloader):\n",
    "        steps += 1\n",
    "        \n",
    "        inputs,labels = inputs.to('cuda'), labels.to('cuda')\n",
    "        \n",
    "        optimizer.zero_grad()\n",
    "        \n",
    "        # Forward and backward passes\n",
    "        outputs = model.forward(inputs)\n",
    "        loss = criterion(outputs, labels)\n",
    "        loss.backward()\n",
    "        optimizer.step()\n",
    "        \n",
    "        running_loss += loss.item()\n",
    "        \n",
    "        if steps % print_every == 0:\n",
    "            model.eval()\n",
    "            validlost = 0\n",
    "            accuracy=0\n",
    "            \n",
    "            \n",
    "            for ii, (inputs2,labels2) in enumerate(vloader):\n",
    "                optimizer.zero_grad()\n",
    "                \n",
    "                inputs2, labels2 = inputs2.to('cuda:0') , labels2.to('cuda:0')\n",
    "                model.to('cuda:0')\n",
    "                with torch.no_grad():    \n",
    "                    outputs = model.forward(inputs2)\n",
    "                    validlost = criterion(outputs,labels2)\n",
    "                    ps = torch.exp(outputs).data\n",
    "                    equality = (labels2.data == ps.max(1)[1])\n",
    "                    accuracy += equality.type_as(torch.FloatTensor()).mean()\n",
    "                    \n",
    "            validlost = validlost / len(vloader)\n",
    "            accuracy = accuracy / len(vloader)\n",
    "            \n",
    "                    \n",
    "            \n",
    "            print(\"Epoch: {}/{}... \".format(e+1, epochs),\n",
    "                  \"Training Loss: {:.4f}\".format(running_loss/print_every),\n",
    "                  \"Validation Loss: {:.4f}\".format(validlost),\n",
    "                   \"Accuracy: {:.4f}\".format(accuracy))\n",
    "            \n",
    "            running_loss = 0"
   ]
  },
  {
   "cell_type": "code",
   "execution_count": 8,
   "metadata": {},
   "outputs": [
    {
     "name": "stdout",
     "output_type": "stream",
     "text": [
      "Accuracy of the network on the test images: 91 %\n"
     ]
    }
   ],
   "source": [
    "def check_accuracy_on_test(testloader):    \n",
    "    correct = 0\n",
    "    total = 0\n",
    "    model.to('cuda:0')\n",
    "    with torch.no_grad():\n",
    "        for data in testloader:\n",
    "            images, labels = data\n",
    "            images, labels = images.to('cuda'), labels.to('cuda')\n",
    "            outputs = model(images)\n",
    "            _, predicted = torch.max(outputs.data, 1)\n",
    "            total += labels.size(0)\n",
    "            correct += (predicted == labels).sum().item()\n",
    "\n",
    "    print('Accuracy of the network on the test images: %d %%' % (100 * correct / total))\n",
    "    \n",
    "check_accuracy_on_test(testloader)"
   ]
  },
  {
   "cell_type": "markdown",
   "metadata": {},
   "source": [
    "## Save the checkpoint\n",
    "\n",
    "Now that your network is trained, save the model so you can load it later for making predictions. You probably want to save other things such as the mapping of classes to indices which you get from one of the image datasets: `image_datasets['train'].class_to_idx`. You can attach this to the model as an attribute which makes inference easier later on.\n",
    "\n",
    "```model.class_to_idx = image_datasets['train'].class_to_idx```\n",
    "\n",
    "Remember that you'll want to completely rebuild the model later so you can use it for inference. Make sure to include any information you need in the checkpoint. If you want to load the model and keep training, you'll want to save the number of epochs as well as the optimizer state, `optimizer.state_dict`. You'll likely want to use this trained model in the next part of the project, so best to save it now."
   ]
  },
  {
   "cell_type": "code",
   "execution_count": 9,
   "metadata": {},
   "outputs": [],
   "source": [
    "# TODO: Save the checkpoint\n",
    "model.class_to_idx = train_data.class_to_idx\n",
    "model.epochs = epochs\n",
    "model.cpu\n",
    "checkpoint = {'arch' : 'densenet121',\n",
    "              'input_size' : [3, 224, 224],\n",
    "              'batch_size' : 8,\n",
    "              'output_size' : 102,\n",
    "              'state_dict' : model.state_dict(),\n",
    "              'optimizer_dict':optimizer.state_dict(),\n",
    "              'class_to_idx' : model.class_to_idx,\n",
    "              'epoch': model.epochs}\n",
    "\n",
    "torch.save(checkpoint, 'checkpoint.pth')"
   ]
  },
  {
   "cell_type": "markdown",
   "metadata": {},
   "source": [
    "## Loading the checkpoint\n",
    "\n",
    "At this point it's good to write a function that can load a checkpoint and rebuild the model. That way you can come back to this project and keep working on it without having to retrain the network."
   ]
  },
  {
   "cell_type": "code",
   "execution_count": 10,
   "metadata": {},
   "outputs": [],
   "source": [
    "# TODO: Write a function that loads a checkpoint and rebuilds the model"
   ]
  },
  {
   "cell_type": "code",
   "execution_count": 8,
   "metadata": {},
   "outputs": [],
   "source": [
    "def load_model(path):\n",
    "    checkpoint = torch.load(path)\n",
    "    model = models.densenet121()\n",
    "    arch = 'densenet121'\n",
    "    from collections import OrderedDict\n",
    "    classifier = nn.Sequential(OrderedDict([('fc1', nn.Linear(arch_in[arch], 512)),\n",
    "                                                ('relu', nn.ReLU()),\n",
    "                                                ('dropout', nn.Dropout(p=0.3)),\n",
    "                                                ('fc2', nn.Linear(512, 102)),\n",
    "                                                ('out', nn.LogSoftmax(dim=1)),\n",
    "                                               ]))\n",
    "    \n",
    "    \n",
    "    model.classifier = classifier\n",
    "    model.load_state_dict(checkpoint['state_dict'])\n",
    "    \n",
    "    return model, checkpoint['class_to_idx']\n",
    "    \n",
    "loaded_model, class_to_idx = load_model('checkpoint.pth')\n",
    "idx_to_class = { v : k for k,v in class_to_idx.items()}"
   ]
  },
  {
   "cell_type": "code",
   "execution_count": 15,
   "metadata": {},
   "outputs": [
    {
     "name": "stdout",
     "output_type": "stream",
     "text": [
      "tensor([101,   4])\n"
     ]
    }
   ],
   "source": [
    "from torch.autograd import Variable\n",
    "loaded_model.eval()\n",
    "images, labels = next(iter(testloader))\n",
    "output = loaded_model.forward(Variable(images[:2]))\n",
    "ps = torch.exp(output).data\n",
    "print(ps.max(1)[1])"
   ]
  },
  {
   "cell_type": "markdown",
   "metadata": {},
   "source": [
    "# Inference for classification\n",
    "\n",
    "Now you'll write a function to use a trained network for inference. That is, you'll pass an image into the network and predict the class of the flower in the image. Write a function called `predict` that takes an image and a model, then returns the top $K$ most likely classes along with the probabilities. It should look like \n",
    "\n",
    "```python\n",
    "probs, classes = predict(image_path, model)\n",
    "print(probs)\n",
    "print(classes)\n",
    "> [ 0.01558163  0.01541934  0.01452626  0.01443549  0.01407339]\n",
    "> ['70', '3', '45', '62', '55']\n",
    "```\n",
    "\n",
    "First you'll need to handle processing the input image such that it can be used in your network. \n",
    "\n",
    "## Image Preprocessing\n",
    "\n",
    "You'll want to use `PIL` to load the image ([documentation](https://pillow.readthedocs.io/en/latest/reference/Image.html)). It's best to write a function that preprocesses the image so it can be used as input for the model. This function should process the images in the same manner used for training. \n",
    "\n",
    "First, resize the images where the shortest side is 256 pixels, keeping the aspect ratio. This can be done with the [`thumbnail`](http://pillow.readthedocs.io/en/3.1.x/reference/Image.html#PIL.Image.Image.thumbnail) or [`resize`](http://pillow.readthedocs.io/en/3.1.x/reference/Image.html#PIL.Image.Image.thumbnail) methods. Then you'll need to crop out the center 224x224 portion of the image.\n",
    "\n",
    "Color channels of images are typically encoded as integers 0-255, but the model expected floats 0-1. You'll need to convert the values. It's easiest with a Numpy array, which you can get from a PIL image like so `np_image = np.array(pil_image)`.\n",
    "\n",
    "As before, the network expects the images to be normalized in a specific way. For the means, it's `[0.485, 0.456, 0.406]` and for the standard deviations `[0.229, 0.224, 0.225]`. You'll want to subtract the means from each color channel, then divide by the standard deviation. \n",
    "\n",
    "And finally, PyTorch expects the color channel to be the first dimension but it's the third dimension in the PIL image and Numpy array. You can reorder dimensions using [`ndarray.transpose`](https://docs.scipy.org/doc/numpy-1.13.0/reference/generated/numpy.ndarray.transpose.html). The color channel needs to be first and retain the order of the other two dimensions."
   ]
  },
  {
   "cell_type": "code",
   "execution_count": 16,
   "metadata": {},
   "outputs": [],
   "source": [
    "def process_image(image):\n",
    "    ''' Scales, crops, and normalizes a PIL image for a PyTorch model,\n",
    "        returns an Numpy array\n",
    "    '''\n",
    "    \n",
    "    # TODO: Process a PIL image for use in a PyTorch model\n",
    "\n",
    "    size = 256, 256\n",
    "    image.thumbnail(size, Image.ANTIALIAS)\n",
    "    image = image.crop((128 - 112, 128 - 112, 128 + 112, 128 + 112))\n",
    "    npImage = np.array(image)\n",
    "    npImage = npImage/255.\n",
    "        \n",
    "    imgA = npImage[:,:,0]\n",
    "    imgB = npImage[:,:,1]\n",
    "    imgC = npImage[:,:,2]\n",
    "    \n",
    "    imgA = (imgA - 0.485)/(0.229) \n",
    "    imgB = (imgB - 0.456)/(0.224)\n",
    "    imgC = (imgC - 0.406)/(0.225)\n",
    "        \n",
    "    npImage[:,:,0] = imgA\n",
    "    npImage[:,:,1] = imgB\n",
    "    npImage[:,:,2] = imgC\n",
    "    \n",
    "    npImage = np.transpose(npImage, (2,0,1))\n",
    "    \n",
    "    return npImage"
   ]
  },
  {
   "cell_type": "markdown",
   "metadata": {},
   "source": [
    "To check your work, the function below converts a PyTorch tensor and displays it in the notebook. If your `process_image` function works, running the output through this function should return the original image (except for the cropped out portions)."
   ]
  },
  {
   "cell_type": "code",
   "execution_count": 17,
   "metadata": {},
   "outputs": [],
   "source": [
    "def imshow(image, ax=None, title=None):\n",
    "    \"\"\"Imshow for Tensor.\"\"\"\n",
    "    if ax is None:\n",
    "        fig, ax = plt.subplots()\n",
    "    \n",
    "    # PyTorch tensors assume the color channel is the first dimension\n",
    "    # but matplotlib assumes is the third dimension\n",
    "    image = image.numpy().transpose((1, 2, 0))\n",
    "    \n",
    "    # Undo preprocessing\n",
    "    mean = np.array([0.485, 0.456, 0.406])\n",
    "    std = np.array([0.229, 0.224, 0.225])\n",
    "    image = std * image + mean\n",
    "    \n",
    "    # Image needs to be clipped between 0 and 1 or it looks like noise when displayed\n",
    "    image = np.clip(image, 0, 1)\n",
    "    \n",
    "    ax.imshow(image)\n",
    "    \n",
    "    return ax"
   ]
  },
  {
   "cell_type": "markdown",
   "metadata": {},
   "source": [
    "## Class Prediction\n",
    "\n",
    "Once you can get images in the correct format, it's time to write a function for making predictions with your model. A common practice is to predict the top 5 or so (usually called top-$K$) most probable classes. You'll want to calculate the class probabilities then find the $K$ largest values.\n",
    "\n",
    "To get the top $K$ largest values in a tensor use [`x.topk(k)`](http://pytorch.org/docs/master/torch.html#torch.topk). This method returns both the highest `k` probabilities and the indices of those probabilities corresponding to the classes. You need to convert from these indices to the actual class labels using `class_to_idx` which hopefully you added to the model or from an `ImageFolder` you used to load the data ([see here](#Save-the-checkpoint)). Make sure to invert the dictionary so you get a mapping from index to class as well.\n",
    "\n",
    "Again, this method should take a path to an image and a model checkpoint, then return the probabilities and classes.\n",
    "\n",
    "```python\n",
    "probs, classes = predict(image_path, model)\n",
    "print(probs)\n",
    "print(classes)\n",
    "> [ 0.01558163  0.01541934  0.01452626  0.01443549  0.01407339]\n",
    "> ['70', '3', '45', '62', '55']\n",
    "```"
   ]
  },
  {
   "cell_type": "code",
   "execution_count": 18,
   "metadata": {},
   "outputs": [],
   "source": [
    "def predict(image_path, model, topk=5):\n",
    "    ''' Predict the class (or classes) of an image using a trained deep learning model.\n",
    "    '''\n",
    "    \n",
    "    # TODO: Implement the code to predict the class from an image file\n",
    "    \n",
    "    image = torch.FloatTensor([process_image(Image.open(image_path))])\n",
    "    model.eval()\n",
    "    output = model.forward(Variable(image))\n",
    "    pobabilities = torch.exp(output).data.numpy()[0]\n",
    "    \n",
    "\n",
    "    top_idx = np.argsort(pobabilities)[-topk:][::-1] \n",
    "    top_class = [idx_to_class[x] for x in top_idx]\n",
    "    top_probability = pobabilities[top_idx]\n",
    "\n",
    "    return top_probability, top_class"
   ]
  },
  {
   "cell_type": "code",
   "execution_count": 20,
   "metadata": {},
   "outputs": [
    {
     "name": "stdout",
     "output_type": "stream",
     "text": [
      "(array([0.98580885, 0.00446818, 0.00341588, 0.00321319, 0.00245658],\n",
      "      dtype=float32), ['2', '7', '62', '13', '96'])\n"
     ]
    }
   ],
   "source": [
    "print (predict(data_dir +'/test/2/image_05100.jpg', loaded_model))"
   ]
  },
  {
   "cell_type": "markdown",
   "metadata": {},
   "source": [
    "## Sanity Checking\n",
    "\n",
    "Now that you can use a trained model for predictions, check to make sure it makes sense. Even if the validation accuracy is high, it's always good to check that there aren't obvious bugs. Use `matplotlib` to plot the probabilities for the top 5 classes as a bar graph, along with the input image. It should look like this:\n",
    "\n",
    "<img src='assets/inference_example.png' width=300px>\n",
    "\n",
    "You can convert from the class integer encoding to actual flower names with the `cat_to_name.json` file (should have been loaded earlier in the notebook). To show a PyTorch tensor as an image, use the `imshow` function defined above."
   ]
  },
  {
   "cell_type": "code",
   "execution_count": 21,
   "metadata": {},
   "outputs": [],
   "source": [
    "# TODO: Display an image along with the top 5 classes\n",
    "def view_classify(img, probabilities, classes, mapper):\n",
    "    ''' Function for viewing an image and it's predicted classes.\n",
    "    '''\n",
    "    img_filename = img.split('/')[-2]\n",
    "    img = Image.open(img)\n",
    "\n",
    "    fig, (ax1, ax2) = plt.subplots(figsize=(6,10), ncols=1, nrows=2)\n",
    "    flower_name = mapper[img_filename]\n",
    "    \n",
    "    ax1.set_title(flower_name)\n",
    "    ax1.imshow(img)\n",
    "    ax1.axis('off')\n",
    "    \n",
    "    y_pos = np.arange(len(probabilities))\n",
    "    ax2.barh(y_pos, probabilities)\n",
    "    ax2.set_yticks(y_pos)\n",
    "    ax2.set_yticklabels([mapper[x] for x in classes])\n",
    "    ax2.invert_yaxis()"
   ]
  },
  {
   "cell_type": "code",
   "execution_count": 31,
   "metadata": {},
   "outputs": [
    {
     "data": {
      "image/png": "[encoded data removed]",
      "text/plain": [
       "<Figure size 432x720 with 2 Axes>"
      ]
     },
     "metadata": {
      "needs_background": "light"
     },
     "output_type": "display_data"
    }
   ],
   "source": [
    "img = (data_dir + '/test/15/image_06360.jpg')\n",
    "p, c = predict(img, loaded_model)\n",
    "view_classify(img, p, c, cat_to_name)"
   ]
  },
  {
   "cell_type": "code",
   "execution_count": null,
   "metadata": {},
   "outputs": [],
   "source": []
  },
  {
   "cell_type": "code",
   "execution_count": null,
   "metadata": {},
   "outputs": [],
   "source": []
  }
 ],
 "metadata": {
  "kernelspec": {
   "display_name": "Python 3",
   "language": "python",
   "name": "python3"
  },
  "language_info": {
   "codemirror_mode": {
    "name": "ipython",
    "version": 3
   },
   "file_extension": ".py",
   "mimetype": "text/x-python",
   "name": "python",
   "nbconvert_exporter": "python",
   "pygments_lexer": "ipython3",
   "version": "3.6.8"
  }
 },
 "nbformat": 4,
 "nbformat_minor": 2
}
